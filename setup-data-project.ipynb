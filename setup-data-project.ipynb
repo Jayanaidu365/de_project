{
 "cells": [
  {
   "cell_type": "markdown",
   "id": "57550d02-dc78-40f2-bff5-68d5dc0f8d9e",
   "metadata": {},
   "source": [
    "# Parts of data project\n",
    "\n",
    "Most data engineering tool falls into one of the parts shown below: (as explained in this [post](https://www.startdataengineering.com/post/parts-of-dataengineering/))\n",
    "\n",
    "![Data tools](./assets/images/data-tools.png)\n",
    "\n",
    "In this notebook, we will go over the parts of a data project and choose tools to build a data pipeline. While we chose bitcoin data for this project, one can choose any data set they find interesting and follow the below steps to quickly build their data pipeline."
   ]
  },
  {
   "cell_type": "markdown",
   "id": "02ad6b23-067c-47d5-b8de-01b8a21e887c",
   "metadata": {},
   "source": [
    "# Requirements\n",
    "\n",
    "When it comes to requirements work with the end user to define them. The set of requirements are usually the following:"
   ]
  },
  {
   "cell_type": "markdown",
   "id": "df1218fd-cae6-49e5-b1e4-2b8ac4eceb70",
   "metadata": {},
   "source": [
    "## Input dataset\n",
    "\n",
    "Let's assume that we are working with a car part seller database (tpch). The data is available in a duckdb database. The data model is shown below:\n",
    "\n",
    "![TPCH data model](./assets/images/tpch_erd.png)"
   ]
  },
  {
   "cell_type": "code",
   "execution_count": 1,
   "id": "d872771c-965c-4832-aa80-10867be9adc0",
   "metadata": {},
   "outputs": [],
   "source": [
    "import os\n",
    "\n",
    "# Remove the file if it exists\n",
    "if os.path.exists(\"tpch.db\"):\n",
    "    os.remove(\"tpch.db\")\n",
    "else:\n",
    "    print(\"The file does not exist.\")\n"
   ]
  },
  {
   "cell_type": "code",
   "execution_count": 2,
   "id": "e7303ad6-70d4-41d0-a9c8-65ff3e7d2924",
   "metadata": {},
   "outputs": [
    {
     "data": {
      "text/plain": [
       "┌─────────┐\n",
       "│ Success │\n",
       "│ boolean │\n",
       "├─────────┤\n",
       "│ 0 rows  │\n",
       "└─────────┘"
      ]
     },
     "execution_count": 2,
     "metadata": {},
     "output_type": "execute_result"
    }
   ],
   "source": [
    "# Create TPCH dataset \n",
    "import duckdb\n",
    "con = duckdb.connect(\"tpch.db\") # Define a .db file to persist the generated tpch data \n",
    "con.sql(\"INSTALL tpch;LOAD tpch;CALL dbgen(sf = 0.01);\") # generate a 100MB TPCH dataset"
   ]
  },
  {
   "cell_type": "code",
   "execution_count": 3,
   "id": "34f0af23-b2be-4283-a8cc-00aff7bc780a",
   "metadata": {},
   "outputs": [
    {
     "data": {
      "text/plain": [
       "┌───────────┬────────────────────┬────────────────────────────────┬─────────────┬─────────────────┬───────────────┬──────────────┬─────────────────────────────────────────────────────────────────┐\n",
       "│ c_custkey │       c_name       │           c_address            │ c_nationkey │     c_phone     │   c_acctbal   │ c_mktsegment │                            c_comment                            │\n",
       "│   int64   │      varchar       │            varchar             │    int32    │     varchar     │ decimal(15,2) │   varchar    │                             varchar                             │\n",
       "├───────────┼────────────────────┼────────────────────────────────┼─────────────┼─────────────────┼───────────────┼──────────────┼─────────────────────────────────────────────────────────────────┤\n",
       "│         1 │ Customer#000000001 │ j5JsirBM9PsCy0O1m              │          15 │ 25-989-741-2988 │        711.56 │ BUILDING     │ y final requests wake slyly quickly special accounts. blithely  │\n",
       "│         2 │ Customer#000000002 │ 487LW1dovn6Q4dMVymKwwLE9OKf3QG │          13 │ 23-768-687-3665 │        121.65 │ AUTOMOBILE   │ y carefully regular foxes. slyly regular requests about the bli │\n",
       "└───────────┴────────────────────┴────────────────────────────────┴─────────────┴─────────────────┴───────────────┴──────────────┴─────────────────────────────────────────────────────────────────┘"
      ]
     },
     "execution_count": 3,
     "metadata": {},
     "output_type": "execute_result"
    }
   ],
   "source": [
    "# check presence of TPCH tables\n",
    "con.sql(\"select * from customer limit 2\") "
   ]
  },
  {
   "cell_type": "markdown",
   "id": "792878dc-081c-4d8c-9fcc-12e6b744891a",
   "metadata": {},
   "source": [
    "## Columns and metics needed in the dataset produced\n",
    "\n",
    "Assume that we have to create metrics for the customer outreach team. The dataset requires the following columns:\n",
    "\n",
    "For each customer (i.e. one row per customer)\n",
    "\n",
    "1. **customer_key**: The unique identifier for the customer \n",
    "2. **customer_name**: The customer name\n",
    "3. **min_order_value**: The value of the order with the lowest value placed by this customer\n",
    "4. **max_order_value**: The value of the order with the highest value placed by this customer\n",
    "5. **avg_order_value**: The average value of all the orders placed by this customer  \n",
    "6. **avg_num_items_per_order**: The average number of items per order placed by this customer"
   ]
  },
  {
   "cell_type": "code",
   "execution_count": 4,
   "id": "29118f12-3b06-41b3-952a-240fa7fa8408",
   "metadata": {},
   "outputs": [
    {
     "data": {
      "text/plain": [
       "┌──────────────┬────────────────────┬─────────────────┬─────────────────┬────────────────────┬─────────────────────────┐\n",
       "│ customer_key │   customer_name    │ min_order_value │ max_order_value │  avg_order_value   │ avg_num_items_per_order │\n",
       "│    int64     │      varchar       │  decimal(15,2)  │  decimal(15,2)  │       double       │         double          │\n",
       "├──────────────┼────────────────────┼─────────────────┼─────────────────┼────────────────────┼─────────────────────────┤\n",
       "│         1234 │ Customer#000001234 │         9003.19 │       278195.78 │        139255.1685 │                     4.3 │\n",
       "│         1249 │ Customer#000001249 │        24930.42 │       277810.17 │ 134356.99653846154 │       4.153846153846154 │\n",
       "│          619 │ Customer#000000619 │         9264.42 │       358646.80 │ 154229.86541666667 │       4.208333333333333 │\n",
       "│          100 │ Customer#000000100 │        30287.40 │       328307.40 │      168177.359375 │                    4.25 │\n",
       "│          442 │ Customer#000000442 │         2744.06 │       343004.49 │  146004.2756521739 │      3.9565217391304346 │\n",
       "│           71 │ Customer#000000071 │        11529.65 │       320227.49 │         158044.239 │                     4.6 │\n",
       "│         1180 │ Customer#000001180 │        28357.41 │       229870.71 │  131755.7576470588 │                     4.0 │\n",
       "│         1447 │ Customer#000001447 │        12784.23 │       319926.65 │         122431.086 │                     4.0 │\n",
       "│         1384 │ Customer#000001384 │        12202.94 │       346279.77 │ 146258.91818181818 │                     4.5 │\n",
       "│          776 │ Customer#000000776 │        10102.04 │       249888.04 │ 140098.10416666666 │       4.583333333333333 │\n",
       "│           ·  │         ·          │            ·    │           ·     │              ·     │               ·         │\n",
       "│           ·  │         ·          │            ·    │           ·     │              ·     │               ·         │\n",
       "│           ·  │         ·          │            ·    │           ·     │              ·     │               ·         │\n",
       "│         1382 │ Customer#000001382 │         2022.19 │       307841.76 │          125180.67 │      2.6666666666666665 │\n",
       "│          416 │ Customer#000000416 │        53224.01 │       279221.38 │ 151743.51714285713 │       4.714285714285714 │\n",
       "│          674 │ Customer#000000674 │        14373.92 │       222954.48 │ 125530.92285714285 │       4.142857142857143 │\n",
       "│          980 │ Customer#000000980 │        68468.25 │       252914.07 │       163583.30375 │                   4.625 │\n",
       "│          341 │ Customer#000000341 │        36800.50 │       276702.99 │ 135387.83555555556 │       3.888888888888889 │\n",
       "│          962 │ Customer#000000962 │         9136.24 │       243303.90 │ 103301.19692307692 │       3.230769230769231 │\n",
       "│          389 │ Customer#000000389 │        27250.86 │       207828.01 │         104641.156 │                     2.2 │\n",
       "│         1139 │ Customer#000001139 │       115629.77 │       228030.19 │          170359.49 │                    4.75 │\n",
       "│          185 │ Customer#000000185 │        25352.65 │       144995.56 │           72334.53 │                     2.0 │\n",
       "│          373 │ Customer#000000373 │         3544.97 │       319477.22 │ 141204.63727272727 │      3.5454545454545454 │\n",
       "├──────────────┴────────────────────┴─────────────────┴─────────────────┴────────────────────┴─────────────────────────┤\n",
       "│ 1000 rows (20 shown)                                                                                       6 columns │\n",
       "└──────────────────────────────────────────────────────────────────────────────────────────────────────────────────────┘"
      ]
     },
     "execution_count": 4,
     "metadata": {},
     "output_type": "execute_result"
    }
   ],
   "source": [
    "# simple query to get the output dataset\n",
    "import duckdb\n",
    "con = duckdb.connect(\"tpch.db\")\n",
    "con.sql(\"\"\"\n",
    "WITH order_items AS (\n",
    "    SELECT\n",
    "        l_orderkey,\n",
    "        COUNT(*) AS item_count\n",
    "    FROM\n",
    "        lineitem\n",
    "    GROUP BY\n",
    "        l_orderkey\n",
    "),\n",
    "customer_orders AS (\n",
    "    SELECT\n",
    "        o.o_custkey,\n",
    "        o.o_orderkey,\n",
    "        o.o_totalprice,\n",
    "        oi.item_count\n",
    "    FROM\n",
    "        orders o\n",
    "    JOIN\n",
    "        order_items oi ON o.o_orderkey = oi.l_orderkey\n",
    ")\n",
    "SELECT\n",
    "    c.c_custkey AS customer_key,\n",
    "    c.c_name AS customer_name,\n",
    "    MIN(co.o_totalprice) AS min_order_value,\n",
    "    MAX(co.o_totalprice) AS max_order_value,\n",
    "    AVG(co.o_totalprice) AS avg_order_value,\n",
    "    AVG(co.item_count) AS avg_num_items_per_order\n",
    "FROM\n",
    "    customer c\n",
    "JOIN\n",
    "    customer_orders co ON c.c_custkey = co.o_custkey\n",
    "GROUP BY\n",
    "    c.c_custkey, c.c_name;\n",
    "\"\"\")"
   ]
  },
  {
   "cell_type": "code",
   "execution_count": 5,
   "id": "840f1cdc-2849-49c1-8035-0fcc8eaa800d",
   "metadata": {},
   "outputs": [],
   "source": [
    "con.commit()\n",
    "con.close() # close connection, since duckdb only allows one connection to tpch.db"
   ]
  },
  {
   "cell_type": "markdown",
   "id": "b8063abf-6654-4f8b-b038-b3efdf05dcb8",
   "metadata": {},
   "source": [
    "## SLA: Data freshness\n",
    "\n",
    "Assume that our stakeholders require the data to be no older than 12h. This means that your pipeline should run completely atleast once every 12h. If we assume that the pipeline runs in 2h, we need to ensure that the pipeline is run atleast every 10h, so that the data is not older than 12h at any given time.\n",
    "\n",
    "* **SLA**: Max 12h latency\n",
    "* **Pipeline frequency**: Run pipeline every 1h"
   ]
  },
  {
   "cell_type": "markdown",
   "id": "c4f25f7b-b3e6-4bda-ba4b-d1d98aae2b34",
   "metadata": {},
   "source": [
    "## Table constraints and data quality\n",
    "\n",
    "Since our dataset is at a customer level we can infer that \n",
    "\n",
    "1. **customer_key**: Has to be unique and not null\n",
    "\n",
    "In order to avoid any surprises we can do a variance check on our metrics between each runs:\n",
    "\n",
    "1. **avg_*** columns should not differ by more than 5% compared to prior runs (across all customers)\n",
    "\n",
    "Read **[this article that covers all the different types of data quality checks for a detailed list of all the checks one may consider doing](https://www.startdataengineering.com/post/types-of-dq-checks/)**."
   ]
  },
  {
   "cell_type": "markdown",
   "id": "10b3fde7-2486-4ca0-9757-d642124caa27",
   "metadata": {},
   "source": [
    "# Data flow architecture\n",
    "\n",
    "Most tools have their version of the 3-hop architecture. For example dbt has its own version (stage, intermediate, mart) and spark has medallion (bronze, silver, gold).\n",
    "\n",
    "Read **[this article that goes over the standard multi hop architecture in data systems](https://www.startdataengineering.com/post/de_best_practices/#31-use-standard-patterns-that-progressively-transform-your-data)**.\n",
    "\n",
    "You may be wondering why we need this data flow architecture when we have **[the results easily with a simple query shown here](./setup-data-project.ipynb#Columns-and-metics-needed-in-the-dataset-produced)**. \n",
    "\n",
    "While this is a simple example, in most real-world projects you want to have a standard, cleaned and modelled dataset(bronze) that can be use to create specialized dataset for end-users(gold)."
   ]
  },
  {
   "cell_type": "markdown",
   "id": "aa70beaa-6dbc-412e-b468-96d72ca18622",
   "metadata": {},
   "source": [
    "## Bronze\n",
    "\n",
    "Since our dataset has data from customer, order and lineitem input datasets, we will bring those data into bronze tables. We will keep their names the same as the input datasets.\n",
    "\n",
    "We will use `polars` as our data processor."
   ]
  },
  {
   "cell_type": "code",
   "execution_count": 6,
   "id": "a8fcd7df-5057-402f-b0ab-81adc7f60e1d",
   "metadata": {},
   "outputs": [
    {
     "data": {
      "text/plain": [
       "┌──────────┐\n",
       "│   name   │\n",
       "│ varchar  │\n",
       "├──────────┤\n",
       "│ customer │\n",
       "│ lineitem │\n",
       "│ nation   │\n",
       "│ orders   │\n",
       "│ part     │\n",
       "│ partsupp │\n",
       "│ region   │\n",
       "│ supplier │\n",
       "└──────────┘"
      ]
     },
     "execution_count": 6,
     "metadata": {},
     "output_type": "execute_result"
    }
   ],
   "source": [
    "import duckdb\n",
    "import polars as pl\n",
    "\n",
    "con = duckdb.connect(\"tpch.db\")\n",
    "con.sql(\"show tables\")"
   ]
  },
  {
   "cell_type": "code",
   "execution_count": 7,
   "id": "0dbb181c-d5d9-4933-aa83-70a46024c154",
   "metadata": {},
   "outputs": [],
   "source": [
    "# read customer, order, lineitem dataset from duckdb into polars dataframe\n",
    "import duckdb\n",
    "import polars as pl\n",
    "\n",
    "con = duckdb.connect(\"tpch.db\")\n",
    "customer_df = con.sql(\"select * from customer\").pl()\n",
    "orders_df = con.sql(\"select * from orders\").pl()\n",
    "lineitem_df = con.sql(\"select * from lineitem\").pl()"
   ]
  },
  {
   "cell_type": "code",
   "execution_count": 8,
   "id": "c24161f0-c718-414f-b54b-70a115ad04ea",
   "metadata": {},
   "outputs": [],
   "source": [
    "con.close() #close DuckDB connection"
   ]
  },
  {
   "cell_type": "code",
   "execution_count": 9,
   "id": "26f2e97f-a673-4763-8c59-a6961e4055b2",
   "metadata": {},
   "outputs": [
    {
     "data": {
      "text/plain": [
       "Schema([('c_custkey', Int64),\n",
       "        ('c_name', String),\n",
       "        ('c_address', String),\n",
       "        ('c_nationkey', Int32),\n",
       "        ('c_phone', String),\n",
       "        ('c_acctbal', Decimal(precision=15, scale=2)),\n",
       "        ('c_mktsegment', String),\n",
       "        ('c_comment', String)])"
      ]
     },
     "execution_count": 9,
     "metadata": {},
     "output_type": "execute_result"
    }
   ],
   "source": [
    "customer_df.schema"
   ]
  },
  {
   "cell_type": "code",
   "execution_count": 10,
   "id": "200bd100-1b2f-465c-9a18-8fc7de8a480d",
   "metadata": {},
   "outputs": [],
   "source": [
    "# rename columns to confine to warehouse standards\n",
    "cleaned_customer_df = customer_df.rename(lambda col_name: col_name[2:]).rename({\"custkey\": \"customer_key\"})\n",
    "# remove c_ and then rename custkey to customer_key"
   ]
  },
  {
   "cell_type": "code",
   "execution_count": 11,
   "id": "80fbd050-c979-4c2d-ae17-aa92b2504876",
   "metadata": {},
   "outputs": [
    {
     "data": {
      "text/plain": [
       "Schema([('customer_key', Int64),\n",
       "        ('name', String),\n",
       "        ('address', String),\n",
       "        ('nationkey', Int32),\n",
       "        ('phone', String),\n",
       "        ('acctbal', Decimal(precision=15, scale=2)),\n",
       "        ('mktsegment', String),\n",
       "        ('comment', String)])"
      ]
     },
     "execution_count": 11,
     "metadata": {},
     "output_type": "execute_result"
    }
   ],
   "source": [
    "cleaned_customer_df.schema"
   ]
  },
  {
   "cell_type": "code",
   "execution_count": 12,
   "id": "53cbc647-3203-4af7-9c89-9114fcfc85ab",
   "metadata": {},
   "outputs": [],
   "source": [
    "orders_df.schema, lineitem_df.schema\n",
    "cleaned_orders_df = orders_df.rename(lambda col_name: col_name[2:]).rename({\"custkey\": \"customer_key\", \"orderkey\": \"order_key\"})\n",
    "cleaned_lineitem_df = lineitem_df.rename(lambda col_name: col_name[2:]).rename({\"orderkey\": \"order_key\"})"
   ]
  },
  {
   "cell_type": "code",
   "execution_count": 13,
   "id": "b46750e6-3dcc-4a4b-bffe-467984e8e454",
   "metadata": {},
   "outputs": [
    {
     "data": {
      "text/plain": [
       "(Schema([('order_key', Int64),\n",
       "         ('customer_key', Int64),\n",
       "         ('orderstatus', String),\n",
       "         ('totalprice', Decimal(precision=15, scale=2)),\n",
       "         ('orderdate', Date),\n",
       "         ('orderpriority', String),\n",
       "         ('clerk', String),\n",
       "         ('shippriority', Int32),\n",
       "         ('comment', String)]),\n",
       " Schema([('order_key', Int64),\n",
       "         ('partkey', Int64),\n",
       "         ('suppkey', Int64),\n",
       "         ('linenumber', Int64),\n",
       "         ('quantity', Decimal(precision=15, scale=2)),\n",
       "         ('extendedprice', Decimal(precision=15, scale=2)),\n",
       "         ('discount', Decimal(precision=15, scale=2)),\n",
       "         ('tax', Decimal(precision=15, scale=2)),\n",
       "         ('returnflag', String),\n",
       "         ('linestatus', String),\n",
       "         ('shipdate', Date),\n",
       "         ('commitdate', Date),\n",
       "         ('receiptdate', Date),\n",
       "         ('shipinstruct', String),\n",
       "         ('shipmode', String),\n",
       "         ('comment', String)]))"
      ]
     },
     "execution_count": 13,
     "metadata": {},
     "output_type": "execute_result"
    }
   ],
   "source": [
    "cleaned_orders_df.schema, cleaned_lineitem_df.schema"
   ]
  },
  {
   "cell_type": "markdown",
   "id": "fc7c521a-e814-44da-9fc0-6b663ee4762e",
   "metadata": {},
   "source": [
    "## Silver\n",
    "\n",
    "In the silver layer the datasets are modelled based on one of the popular styles (e.g. Kimball, Data vault, etc). We will use Kimball's dimensional model as it is the most commonly used one and can account for a lot of use cases.\n",
    "\n",
    "We will create the following datasets\n",
    "\n",
    "1. **dim_customer**: A customer level table with all the necessary attributes of a customer. We will join nation and region data to the `cleaned_customer_df` to get all the attributes associated with a customer.\n",
    "2. **fct_orders**: An order level fact(an event that happened) table. This will be the same as `cleaned_orders_df` since the `orders` table has all the necessary details about the order and how it associates with dimension tables like `customer_key`.\n",
    "3. **fct_lineitem**: A lineitem (items that are part of an order) fact table. This table will be the same as `cleaned_lineitem_df` since the `lineitem` table has all the lineitem level details and keys to associate with dimension tables like `partkey` and `suppkey`."
   ]
  },
  {
   "cell_type": "code",
   "execution_count": 14,
   "id": "963a6dab-d296-4fb5-8931-a27afd4a8027",
   "metadata": {},
   "outputs": [],
   "source": [
    "# pull nation and region datasets into bronze layer\n",
    "import duckdb\n",
    "import polars as pl\n",
    "\n",
    "con = duckdb.connect(\"tpch.db\")\n",
    "nation_df = con.sql(\"select * from nation\").pl()\n",
    "region_df = con.sql(\"select * from region\").pl()\n",
    "\n",
    "cleaned_nation_df = nation_df.rename(lambda col_name: col_name[2:])\n",
    "cleaned_region_df = region_df.rename(lambda col_name: col_name[2:])\n",
    "con.close() # close duckdb connection"
   ]
  },
  {
   "cell_type": "code",
   "execution_count": 15,
   "id": "0c4842a2-6422-4d15-a46c-bf8c189e28de",
   "metadata": {},
   "outputs": [
    {
     "data": {
      "text/plain": [
       "(Schema([('regionkey', Int32), ('name', String), ('comment', String)]),\n",
       " Schema([('nationkey', Int32),\n",
       "         ('name', String),\n",
       "         ('regionkey', Int32),\n",
       "         ('comment', String)]),\n",
       " Schema([('customer_key', Int64),\n",
       "         ('name', String),\n",
       "         ('address', String),\n",
       "         ('nationkey', Int32),\n",
       "         ('phone', String),\n",
       "         ('acctbal', Decimal(precision=15, scale=2)),\n",
       "         ('mktsegment', String),\n",
       "         ('comment', String)]))"
      ]
     },
     "execution_count": 15,
     "metadata": {},
     "output_type": "execute_result"
    }
   ],
   "source": [
    "cleaned_region_df.schema, cleaned_nation_df.schema, cleaned_customer_df.schema"
   ]
  },
  {
   "cell_type": "code",
   "execution_count": 16,
   "id": "34df880c-9c73-4fb5-9c25-1810226ab999",
   "metadata": {},
   "outputs": [],
   "source": [
    "dim_customer = cleaned_customer_df\\\n",
    ".join(cleaned_nation_df, on=\"nationkey\", how=\"left\", suffix=\"_nation\")\\\n",
    ".join(cleaned_region_df, on=\"regionkey\", how=\"left\", suffix=\"_region\")\\\n",
    ".rename({\n",
    "    \"name_nation\": \"nation_name\",\n",
    "    \"name_region\": \"region_name\",\n",
    "    \"comment_nation\": \"nation_comment\",\n",
    "    \"comment_region\": \"region_comment\"\n",
    "})"
   ]
  },
  {
   "cell_type": "code",
   "execution_count": 17,
   "id": "ec474f53-412e-438d-8861-9ceb717467e7",
   "metadata": {},
   "outputs": [
    {
     "data": {
      "text/plain": [
       "Schema([('customer_key', Int64),\n",
       "        ('name', String),\n",
       "        ('address', String),\n",
       "        ('nationkey', Int32),\n",
       "        ('phone', String),\n",
       "        ('acctbal', Decimal(precision=15, scale=2)),\n",
       "        ('mktsegment', String),\n",
       "        ('comment', String),\n",
       "        ('nation_name', String),\n",
       "        ('regionkey', Int32),\n",
       "        ('nation_comment', String),\n",
       "        ('region_name', String),\n",
       "        ('region_comment', String)])"
      ]
     },
     "execution_count": 17,
     "metadata": {},
     "output_type": "execute_result"
    }
   ],
   "source": [
    "dim_customer.schema"
   ]
  },
  {
   "cell_type": "code",
   "execution_count": 18,
   "id": "c17fcdf6-1731-476e-a0cb-4575f489c936",
   "metadata": {},
   "outputs": [],
   "source": [
    "fct_orders = cleaned_orders_df\n",
    "fct_lineitem = cleaned_lineitem_df"
   ]
  },
  {
   "cell_type": "markdown",
   "id": "04941142-588b-443e-874c-ed9acf153276",
   "metadata": {},
   "source": [
    "## Gold\n",
    "\n",
    "In the gold layer datasets required for the end user are generated. The user required datasets are usually an aggregate of fact tables joined with dimension tables. In real-world projects you'd have multiple teams/users asking for differently grouped dataset from the same underlying fact and dimension tables. While you can join the necessary tables and aggregate them individually for each ask, it leads to repeated code and joins.\n",
    "\n",
    "To avoid this issue, companies typically do the following:\n",
    "\n",
    "1. **OBT**: This is usually a fact table with multiple dimension tables left joined with it.\n",
    "2. **pre-aggregated table**; The OBT table is aggregated to the grain required by the end user/team. This will be the dataset that the end user access. By providing the end user with the exact columns they need, we can ensure that all the metrics are defined in one place and issues due to incorrect metric calculations by end-users are greatly reduced. These tables act as the SOT (source of truth) for our end-users. "
   ]
  },
  {
   "cell_type": "markdown",
   "id": "01bb2a65-8fe5-4b14-969f-03cbc9317477",
   "metadata": {},
   "source": [
    "### OBT\n",
    "\n",
    "In our example we have 2 fact tables, `fct_orders` and `fct_lineitem`. Since we only have one dimension `dim_customer` we can join `fct_orders` and `dim_customer` to create `wide_orders`. For our use case we can keep `fct_lineitem` as `wide_lineitem`.\n",
    "\n",
    "Having said that we can easily see a case where we might need to join `parts` and `supplier` data with `fct_lineitem` to get `wide_lineitem`. But since our use case doesn't require this we can skip it!"
   ]
  },
  {
   "cell_type": "code",
   "execution_count": 19,
   "id": "dc207800-034e-4795-bd7f-8328af7ea2a3",
   "metadata": {},
   "outputs": [
    {
     "data": {
      "text/plain": [
       "(Schema([('order_key', Int64),\n",
       "         ('customer_key', Int64),\n",
       "         ('orderstatus', String),\n",
       "         ('totalprice', Decimal(precision=15, scale=2)),\n",
       "         ('orderdate', Date),\n",
       "         ('orderpriority', String),\n",
       "         ('clerk', String),\n",
       "         ('shippriority', Int32),\n",
       "         ('comment', String)]),\n",
       " Schema([('customer_key', Int64),\n",
       "         ('name', String),\n",
       "         ('address', String),\n",
       "         ('nationkey', Int32),\n",
       "         ('phone', String),\n",
       "         ('acctbal', Decimal(precision=15, scale=2)),\n",
       "         ('mktsegment', String),\n",
       "         ('comment', String),\n",
       "         ('nation_name', String),\n",
       "         ('regionkey', Int32),\n",
       "         ('nation_comment', String),\n",
       "         ('region_name', String),\n",
       "         ('region_comment', String)]))"
      ]
     },
     "execution_count": 19,
     "metadata": {},
     "output_type": "execute_result"
    }
   ],
   "source": [
    "fct_orders.schema, dim_customer.schema"
   ]
  },
  {
   "cell_type": "code",
   "execution_count": 20,
   "id": "e5fabf65-f59e-45e7-a3d6-6541f630de10",
   "metadata": {},
   "outputs": [],
   "source": [
    "# create wide_orders table\n",
    "wide_orders = fct_orders.join(dim_customer, on=\"customer_key\", how=\"left\")"
   ]
  },
  {
   "cell_type": "code",
   "execution_count": 21,
   "id": "16bdf7d9-b949-4e30-aa63-ebaee12830b6",
   "metadata": {},
   "outputs": [
    {
     "data": {
      "text/plain": [
       "(15000, 21)"
      ]
     },
     "execution_count": 21,
     "metadata": {},
     "output_type": "execute_result"
    }
   ],
   "source": [
    "wide_orders.shape"
   ]
  },
  {
   "cell_type": "code",
   "execution_count": 22,
   "id": "478b7861-38e8-4371-b5c9-8daba52ec529",
   "metadata": {},
   "outputs": [
    {
     "data": {
      "text/plain": [
       "(15000, 9)"
      ]
     },
     "execution_count": 22,
     "metadata": {},
     "output_type": "execute_result"
    }
   ],
   "source": [
    "fct_orders.shape"
   ]
  },
  {
   "cell_type": "code",
   "execution_count": 23,
   "id": "63753342-ed79-4be0-aede-b7028cb990fb",
   "metadata": {},
   "outputs": [
    {
     "data": {
      "text/plain": [
       "Schema([('order_key', Int64),\n",
       "        ('customer_key', Int64),\n",
       "        ('orderstatus', String),\n",
       "        ('totalprice', Decimal(precision=15, scale=2)),\n",
       "        ('orderdate', Date),\n",
       "        ('orderpriority', String),\n",
       "        ('clerk', String),\n",
       "        ('shippriority', Int32),\n",
       "        ('comment', String),\n",
       "        ('name', String),\n",
       "        ('address', String),\n",
       "        ('nationkey', Int32),\n",
       "        ('phone', String),\n",
       "        ('acctbal', Decimal(precision=15, scale=2)),\n",
       "        ('mktsegment', String),\n",
       "        ('comment_right', String),\n",
       "        ('nation_name', String),\n",
       "        ('regionkey', Int32),\n",
       "        ('nation_comment', String),\n",
       "        ('region_name', String),\n",
       "        ('region_comment', String)])"
      ]
     },
     "execution_count": 23,
     "metadata": {},
     "output_type": "execute_result"
    }
   ],
   "source": [
    "wide_orders.schema"
   ]
  },
  {
   "cell_type": "code",
   "execution_count": 24,
   "id": "1b2a698e-e842-4102-934a-df22e5f82c54",
   "metadata": {},
   "outputs": [],
   "source": [
    "wide_lineitem = fct_lineitem"
   ]
  },
  {
   "cell_type": "markdown",
   "id": "3a11e605-96ba-48c2-a1f8-0a8227cff3f3",
   "metadata": {},
   "source": [
    "### Pre-aggregated data\n",
    "\n",
    "According to our **[data requirements](./setup-data-project.ipynb#Columns-and-metics-needed-in-the-dataset-produced)** we can see that we need data from customer, orders and lineitem. Since we already have customer and order data in `wide_orders`, we can join that with `wide_lineitem` to get the necessary data.\n",
    "\n",
    "We can call the final dataset as `customer_outreach_metrics` (read **[this article that goes over importance of naming](https://docs.getdbt.com/blog/on-the-importance-of-naming)**)."
   ]
  },
  {
   "cell_type": "code",
   "execution_count": 25,
   "id": "eab41e49-a7fa-4db2-893d-fbbba97076d9",
   "metadata": {},
   "outputs": [
    {
     "data": {
      "text/plain": [
       "Schema([('order_key', Int64),\n",
       "        ('partkey', Int64),\n",
       "        ('suppkey', Int64),\n",
       "        ('linenumber', Int64),\n",
       "        ('quantity', Decimal(precision=15, scale=2)),\n",
       "        ('extendedprice', Decimal(precision=15, scale=2)),\n",
       "        ('discount', Decimal(precision=15, scale=2)),\n",
       "        ('tax', Decimal(precision=15, scale=2)),\n",
       "        ('returnflag', String),\n",
       "        ('linestatus', String),\n",
       "        ('shipdate', Date),\n",
       "        ('commitdate', Date),\n",
       "        ('receiptdate', Date),\n",
       "        ('shipinstruct', String),\n",
       "        ('shipmode', String),\n",
       "        ('comment', String)])"
      ]
     },
     "execution_count": 25,
     "metadata": {},
     "output_type": "execute_result"
    }
   ],
   "source": [
    "wide_lineitem.schema"
   ]
  },
  {
   "cell_type": "code",
   "execution_count": 26,
   "id": "a0faf6c1-d32b-42ec-9070-db40c0e1bc40",
   "metadata": {},
   "outputs": [
    {
     "data": {
      "text/plain": [
       "Schema([('order_key', Int64),\n",
       "        ('customer_key', Int64),\n",
       "        ('orderstatus', String),\n",
       "        ('totalprice', Decimal(precision=15, scale=2)),\n",
       "        ('orderdate', Date),\n",
       "        ('orderpriority', String),\n",
       "        ('clerk', String),\n",
       "        ('shippriority', Int32),\n",
       "        ('comment', String),\n",
       "        ('name', String),\n",
       "        ('address', String),\n",
       "        ('nationkey', Int32),\n",
       "        ('phone', String),\n",
       "        ('acctbal', Decimal(precision=15, scale=2)),\n",
       "        ('mktsegment', String),\n",
       "        ('comment_right', String),\n",
       "        ('nation_name', String),\n",
       "        ('regionkey', Int32),\n",
       "        ('nation_comment', String),\n",
       "        ('region_name', String),\n",
       "        ('region_comment', String)])"
      ]
     },
     "execution_count": 26,
     "metadata": {},
     "output_type": "execute_result"
    }
   ],
   "source": [
    "wide_orders.schema"
   ]
  },
  {
   "cell_type": "code",
   "execution_count": 27,
   "id": "06d2b670-dff9-43f4-87be-98a67b682072",
   "metadata": {},
   "outputs": [],
   "source": [
    "# create customer_outreach_metrics\n",
    "\n",
    "# get number of lineitems per order\n",
    "order_lineitem_metrics = wide_lineitem.group_by(pl.col(\"order_key\")).agg(pl.col(\"linenumber\").count().alias(\"num_lineitems\"))\n",
    "# join the above df with wide_orders and group by customer key in wide orders to get avg, min, max order value & avg num items per order\n",
    "customer_outreach_metrics = wide_orders\\\n",
    ".join(order_lineitem_metrics, on=\"order_key\", how=\"left\")\\\n",
    ".group_by(\n",
    "    pl.col(\"customer_key\"), \n",
    "    pl.col(\"name\").alias(\"customer_name\"))\\\n",
    ".agg(\n",
    "    pl.min(\"totalprice\").alias(\"min_order_value\"),\n",
    "    pl.max(\"totalprice\").alias(\"max_order_value\"),\n",
    "    pl.mean(\"totalprice\").alias(\"avg_order_value\"),\n",
    "    pl.mean(\"num_lineitems\").alias(\"avg_num_items_per_order\"),\n",
    ")"
   ]
  },
  {
   "cell_type": "code",
   "execution_count": 28,
   "id": "40837300-7141-4f72-85af-53ab1f82d097",
   "metadata": {},
   "outputs": [
    {
     "data": {
      "text/plain": [
       "Schema([('customer_key', Int64),\n",
       "        ('customer_name', String),\n",
       "        ('min_order_value', Decimal(precision=15, scale=2)),\n",
       "        ('max_order_value', Decimal(precision=15, scale=2)),\n",
       "        ('avg_order_value', Decimal(precision=15, scale=2)),\n",
       "        ('avg_num_items_per_order', Float64)])"
      ]
     },
     "execution_count": 28,
     "metadata": {},
     "output_type": "execute_result"
    }
   ],
   "source": [
    "customer_outreach_metrics.schema"
   ]
  },
  {
   "cell_type": "code",
   "execution_count": 29,
   "id": "a649f4c9-9070-4a13-85bd-507f2951c5ae",
   "metadata": {},
   "outputs": [
    {
     "data": {
      "text/html": [
       "<div><style>\n",
       ".dataframe > thead > tr,\n",
       ".dataframe > tbody > tr {\n",
       "  text-align: right;\n",
       "  white-space: pre-wrap;\n",
       "}\n",
       "</style>\n",
       "<small>shape: (2, 6)</small><table border=\"1\" class=\"dataframe\"><thead><tr><th>customer_key</th><th>customer_name</th><th>min_order_value</th><th>max_order_value</th><th>avg_order_value</th><th>avg_num_items_per_order</th></tr><tr><td>i64</td><td>str</td><td>decimal[15,2]</td><td>decimal[15,2]</td><td>decimal[15,2]</td><td>f64</td></tr></thead><tbody><tr><td>958</td><td>&quot;Customer#000000958&quot;</td><td>31973.21</td><td>314926.50</td><td>null</td><td>4.388889</td></tr><tr><td>905</td><td>&quot;Customer#000000905&quot;</td><td>17681.24</td><td>284167.18</td><td>null</td><td>3.8</td></tr></tbody></table></div>"
      ],
      "text/plain": [
       "shape: (2, 6)\n",
       "┌──────────────┬────────────────┬────────────────┬────────────────┬────────────────┬───────────────┐\n",
       "│ customer_key ┆ customer_name  ┆ min_order_valu ┆ max_order_valu ┆ avg_order_valu ┆ avg_num_items │\n",
       "│ ---          ┆ ---            ┆ e              ┆ e              ┆ e              ┆ _per_order    │\n",
       "│ i64          ┆ str            ┆ ---            ┆ ---            ┆ ---            ┆ ---           │\n",
       "│              ┆                ┆ decimal[15,2]  ┆ decimal[15,2]  ┆ decimal[15,2]  ┆ f64           │\n",
       "╞══════════════╪════════════════╪════════════════╪════════════════╪════════════════╪═══════════════╡\n",
       "│ 958          ┆ Customer#00000 ┆ 31973.21       ┆ 314926.50      ┆ null           ┆ 4.388889      │\n",
       "│              ┆ 0958           ┆                ┆                ┆                ┆               │\n",
       "│ 905          ┆ Customer#00000 ┆ 17681.24       ┆ 284167.18      ┆ null           ┆ 3.8           │\n",
       "│              ┆ 0905           ┆                ┆                ┆                ┆               │\n",
       "└──────────────┴────────────────┴────────────────┴────────────────┴────────────────┴───────────────┘"
      ]
     },
     "execution_count": 29,
     "metadata": {},
     "output_type": "execute_result"
    }
   ],
   "source": [
    "customer_outreach_metrics.limit(2)"
   ]
  },
  {
   "cell_type": "markdown",
   "id": "f98b33d0-3698-428d-bcd8-4d4bf00fdc31",
   "metadata": {},
   "source": [
    "# Data model"
   ]
  },
  {
   "cell_type": "markdown",
   "id": "4b8cb915-af88-4b6a-ac29-d2d66c6c7a0f",
   "metadata": {},
   "source": [
    "## Facts and Dimensions"
   ]
  },
  {
   "cell_type": "markdown",
   "id": "276b7e0c-d854-48f4-afc6-e57c7e57684c",
   "metadata": {},
   "source": [
    "# Data processor and tools"
   ]
  },
  {
   "cell_type": "markdown",
   "id": "e6d595d0-fd16-4766-b712-907648a36579",
   "metadata": {},
   "source": [
    "## Data processor\n"
   ]
  },
  {
   "cell_type": "markdown",
   "id": "bf8edcd6-58b6-4606-9eeb-896aaa82f4d7",
   "metadata": {},
   "source": [
    "## Data quality\n",
    "\n",
    "As part of our requirements we saw that the output dataset needs to have \n",
    "1. Unique and distinct `customer_key`\n",
    "2. Variance in `avg_*` columns between run should not be more than 5% (across all customers)\n",
    "\n",
    "While the first test is a simple check, the second one requires that we use the previous runs data and compare it with the current run's data or we store the sum(avg_*) of each run. Let's store the run level metrics in a run_metadata table (in sqlite3)\n"
   ]
  },
  {
   "cell_type": "code",
   "execution_count": 30,
   "id": "e80e97b8-1541-43cb-aa57-3c867d0b0409",
   "metadata": {},
   "outputs": [],
   "source": [
    "import os\n",
    "\n",
    "# Remove the file if it exists\n",
    "if os.path.exists(\"metadata.db\"):\n",
    "    os.remove(\"metadata.db\")\n",
    "else:\n",
    "    print(\"The file does not exist.\")\n"
   ]
  },
  {
   "cell_type": "code",
   "execution_count": 31,
   "id": "2169c6c9-b3b7-48a9-ab99-2fc4b853dd6f",
   "metadata": {},
   "outputs": [],
   "source": [
    "# create sqlite3 table\n",
    "import sqlite3\n",
    "\n",
    "# Connect to SQLite database (or create it)\n",
    "conn = sqlite3.connect('metadata.db')\n",
    "\n",
    "# Create a cursor object\n",
    "cursor = conn.cursor()\n",
    "\n",
    "# Create the run_metadata table\n",
    "cursor.execute('''\n",
    "    CREATE TABLE run_metadata (\n",
    "        run_id TEXT PRIMARY KEY,\n",
    "        metadata TEXT\n",
    "    )\n",
    "''')\n",
    "\n",
    "# Commit the changes and close the connection\n",
    "conn.commit()\n",
    "conn.close()\n"
   ]
  },
  {
   "cell_type": "code",
   "execution_count": 32,
   "id": "389e5e7b-c34e-429e-a039-b801622c4928",
   "metadata": {},
   "outputs": [],
   "source": [
    "# store run metdata in table\n",
    "import sqlite3\n",
    "\n",
    "# Connect to SQLite database\n",
    "conn = sqlite3.connect('metadata.db')\n",
    "\n",
    "# Create a cursor object\n",
    "cursor = conn.cursor()\n",
    "\n",
    "# Insert data into the run_metadata table\n",
    "cursor.execute('''\n",
    "    INSERT INTO run_metadata (run_id, metadata)\n",
    "    VALUES (?, ?)\n",
    "''', ('2024-09-15-10-00', '{\"sum_avg_num_items_per_order\": 40045.28069559008, \"sum_avg_order_value\": 0.00}'))\n",
    "\n",
    "# Commit the changes and close the connection\n",
    "conn.commit()\n",
    "conn.close()\n"
   ]
  },
  {
   "cell_type": "code",
   "execution_count": 33,
   "id": "910efa50-7384-4d90-9afa-9084b79d212b",
   "metadata": {},
   "outputs": [
    {
     "data": {
      "text/plain": [
       "Schema([('customer_key', Int64),\n",
       "        ('customer_name', String),\n",
       "        ('min_order_value', Decimal(precision=15, scale=2)),\n",
       "        ('max_order_value', Decimal(precision=15, scale=2)),\n",
       "        ('avg_order_value', Decimal(precision=15, scale=2)),\n",
       "        ('avg_num_items_per_order', Float64)])"
      ]
     },
     "execution_count": 33,
     "metadata": {},
     "output_type": "execute_result"
    }
   ],
   "source": [
    "# compare current run with the most recent run\n",
    "customer_outreach_metrics.schema"
   ]
  },
  {
   "cell_type": "code",
   "execution_count": 34,
   "id": "f33f8768-815f-4a77-8543-0c48ebab574a",
   "metadata": {},
   "outputs": [
    {
     "data": {
      "text/plain": [
       "{'sum_avg_num_items_per_order': 4008.885007123707,\n",
       " 'sum_avg_order_value': '0.00'}"
      ]
     },
     "execution_count": 34,
     "metadata": {},
     "output_type": "execute_result"
    }
   ],
   "source": [
    "import json\n",
    "\n",
    "json.loads(\n",
    "    customer_outreach_metrics\\\n",
    "    .select(\n",
    "        pl.col(\"avg_num_items_per_order\").alias(\"sum_avg_num_items_per_order\"),\n",
    "        pl.col(\"avg_order_value\").alias(\"sum_avg_order_value\")\n",
    "    )\\\n",
    "    .sum()\\\n",
    "    .write_json())[0]"
   ]
  },
  {
   "cell_type": "code",
   "execution_count": 35,
   "id": "0fd947e4-171b-4963-969b-a62227c7fbce",
   "metadata": {},
   "outputs": [
    {
     "name": "stdout",
     "output_type": "stream",
     "text": [
      "('2024-09-15-10-00', '{\"sum_avg_num_items_per_order\": 40045.28069559008, \"sum_avg_order_value\": 0.00}')\n"
     ]
    }
   ],
   "source": [
    "# Get most recent data from run_metadata table\n",
    "import sqlite3\n",
    "\n",
    "# Connect to SQLite database\n",
    "conn = sqlite3.connect('metadata.db')\n",
    "\n",
    "# Create a cursor object\n",
    "cursor = conn.cursor()\n",
    "\n",
    "# Fetch the most recent row based on run_id\n",
    "cursor.execute('''\n",
    "    SELECT * FROM run_metadata\n",
    "    ORDER BY run_id DESC\n",
    "    LIMIT 1\n",
    "''')\n",
    "\n",
    "# Get the result\n",
    "most_recent_row = cursor.fetchone()\n",
    "\n",
    "# Close the connection\n",
    "conn.close()\n",
    "\n",
    "# Print the result\n",
    "print(most_recent_row)\n"
   ]
  },
  {
   "cell_type": "code",
   "execution_count": 36,
   "id": "bd4c06a3-aa48-4753-9a50-ebab448532ff",
   "metadata": {},
   "outputs": [],
   "source": [
    "prev_metric = json.loads(most_recent_row[1])"
   ]
  },
  {
   "cell_type": "code",
   "execution_count": 37,
   "id": "3f8d9360-34a0-4083-910f-e131593d7030",
   "metadata": {},
   "outputs": [],
   "source": [
    "# get current metric\n",
    "curr_metric = json.loads(\n",
    "    customer_outreach_metrics\\\n",
    "    .select(\n",
    "        pl.col(\"avg_num_items_per_order\").alias(\"sum_avg_num_items_per_order\"),\n",
    "        pl.col(\"avg_order_value\").cast(int).alias(\"sum_avg_order_value\")\n",
    "    )\\\n",
    "    .sum()\\\n",
    "    .write_json())[0]"
   ]
  },
  {
   "cell_type": "code",
   "execution_count": 38,
   "id": "aefee6e1-8202-4495-8f4b-d1565d6796f1",
   "metadata": {},
   "outputs": [
    {
     "data": {
      "text/plain": [
       "{'sum_avg_num_items_per_order': 4008.885007123707, 'sum_avg_order_value': 0}"
      ]
     },
     "execution_count": 38,
     "metadata": {},
     "output_type": "execute_result"
    }
   ],
   "source": [
    "curr_metric"
   ]
  },
  {
   "cell_type": "code",
   "execution_count": 39,
   "id": "8533fd99-b521-4f50-8446-699fd9575916",
   "metadata": {},
   "outputs": [
    {
     "name": "stdout",
     "output_type": "stream",
     "text": [
      "{'sum_avg_num_items_per_order': 163.60040016032573, 'sum_avg_order_value': 0.0}\n"
     ]
    }
   ],
   "source": [
    "# Compare with current data for variance percentage\n",
    "def percentage_difference(val1, val2):\n",
    "    if val1 == 0 and val2 == 0:\n",
    "        return 0.0\n",
    "    elif val1 == 0 or val2 == 0:\n",
    "        return 100.0\n",
    "    return abs((val1 - val2) / ((val1 + val2) / 2)) * 100\n",
    "\n",
    "comparison = {}\n",
    "for key in curr_metric:\n",
    "    if key in prev_metric:\n",
    "        comparison[key] = percentage_difference(curr_metric[key], prev_metric[key])\n",
    "\n",
    "print(comparison)\n"
   ]
  },
  {
   "cell_type": "code",
   "execution_count": 40,
   "id": "68d938b8-2bf2-4af5-8940-f8148fe6a71f",
   "metadata": {},
   "outputs": [],
   "source": [
    "comparison['sample'] = 10"
   ]
  },
  {
   "cell_type": "code",
   "execution_count": 41,
   "id": "850b6a1d-6f5b-4406-a768-67c6aa433348",
   "metadata": {},
   "outputs": [
    {
     "ename": "Exception",
     "evalue": "Difference for sum_avg_num_items_per_order is greater than 5%: 163.60040016032573%",
     "output_type": "error",
     "traceback": [
      "\u001b[0;31m---------------------------------------------------------------------------\u001b[0m",
      "\u001b[0;31mException\u001b[0m                                 Traceback (most recent call last)",
      "Cell \u001b[0;32mIn[41], line 3\u001b[0m\n\u001b[1;32m      1\u001b[0m \u001b[38;5;28;01mfor\u001b[39;00m k, v \u001b[38;5;129;01min\u001b[39;00m comparison\u001b[38;5;241m.\u001b[39mitems():\n\u001b[1;32m      2\u001b[0m     \u001b[38;5;28;01mif\u001b[39;00m v \u001b[38;5;241m>\u001b[39m\u001b[38;5;241m=\u001b[39m \u001b[38;5;241m5\u001b[39m:\n\u001b[0;32m----> 3\u001b[0m         \u001b[38;5;28;01mraise\u001b[39;00m \u001b[38;5;167;01mException\u001b[39;00m(\u001b[38;5;124mf\u001b[39m\u001b[38;5;124m\"\u001b[39m\u001b[38;5;124mDifference for \u001b[39m\u001b[38;5;132;01m{\u001b[39;00mk\u001b[38;5;132;01m}\u001b[39;00m\u001b[38;5;124m is greater than 5%: \u001b[39m\u001b[38;5;132;01m{\u001b[39;00mv\u001b[38;5;132;01m}\u001b[39;00m\u001b[38;5;124m%\u001b[39m\u001b[38;5;124m\"\u001b[39m)\n",
      "\u001b[0;31mException\u001b[0m: Difference for sum_avg_num_items_per_order is greater than 5%: 163.60040016032573%"
     ]
    }
   ],
   "source": [
    "for k, v in comparison.items():\n",
    "    if v >= 5:\n",
    "        raise Exception(f\"Difference for {k} is greater than 5%: {v}%\")"
   ]
  },
  {
   "cell_type": "code",
   "execution_count": 42,
   "id": "1b813b8e-6c20-4fd6-ae3c-d9a0b68badfc",
   "metadata": {},
   "outputs": [],
   "source": [
    "del(comparison['sample'])"
   ]
  },
  {
   "cell_type": "code",
   "execution_count": 43,
   "id": "0f30f5df-180f-408e-b7c9-dbbc8b35407b",
   "metadata": {},
   "outputs": [],
   "source": [
    "# Insert current run data into run_metadata table\n",
    "# store run metdata in table\n",
    "import sqlite3\n",
    "\n",
    "# Connect to SQLite database\n",
    "conn = sqlite3.connect('metadata.db')\n",
    "\n",
    "# Create a cursor object\n",
    "cursor = conn.cursor()\n",
    "comparison_json = json.dumps(comparison)\n",
    "\n",
    "# Insert data into the run_metadata table\n",
    "cursor.execute('''\n",
    "    INSERT INTO run_metadata (run_id, metadata)\n",
    "    VALUES (?, ?)\n",
    "''', ('2024-09-15-12-00', comparison_json))\n",
    "\n",
    "# Commit the changes and close the connection\n",
    "conn.commit()\n",
    "conn.close()\n"
   ]
  },
  {
   "cell_type": "code",
   "execution_count": 44,
   "id": "71bb07f0-07f1-4f67-ad40-b9a7f23e628d",
   "metadata": {},
   "outputs": [
    {
     "name": "stdout",
     "output_type": "stream",
     "text": [
      "('2024-09-15-10-00', '{\"sum_avg_num_items_per_order\": 40045.28069559008, \"sum_avg_order_value\": 0.00}')\n",
      "('2024-09-15-12-00', '{\"sum_avg_num_items_per_order\": 163.60040016032573, \"sum_avg_order_value\": 0.0}')\n"
     ]
    }
   ],
   "source": [
    "import sqlite3\n",
    "\n",
    "# Connect to SQLite database\n",
    "conn = sqlite3.connect('metadata.db')\n",
    "\n",
    "# Create a cursor object\n",
    "cursor = conn.cursor()\n",
    "\n",
    "# Select all data from run_metadata table\n",
    "cursor.execute('SELECT * FROM run_metadata')\n",
    "\n",
    "# Fetch all rows\n",
    "rows = cursor.fetchall()\n",
    "\n",
    "# Close the connection\n",
    "conn.close()\n",
    "\n",
    "# Print the result\n",
    "for row in rows:\n",
    "    print(row)\n"
   ]
  },
  {
   "cell_type": "markdown",
   "id": "5fd37db0-7496-4dc0-b03e-7994af55564d",
   "metadata": {},
   "source": [
    "## Code testing\n",
    "\n",
    "We will use `pytest` to test our code. Read **[this article for detailed explanation on how to use pytest](https://www.startdataengineering.com/post/code-patterns/#4-testing-with-pytest)**.\n",
    "                                                                                                           \n",
    "In order to test our code, we need to create modular functions. Let's create a function to create the silver `dim_customer` table.                                                                                                           "
   ]
  },
  {
   "cell_type": "code",
   "execution_count": 47,
   "id": "ffd9fea8-9518-4d5f-acc1-fba2c56cef01",
   "metadata": {},
   "outputs": [
    {
     "ename": "AttributeError",
     "evalue": "'function' object has no attribute 'join'",
     "output_type": "error",
     "traceback": [
      "\u001b[0;31m---------------------------------------------------------------------------\u001b[0m",
      "\u001b[0;31mAttributeError\u001b[0m                            Traceback (most recent call last)",
      "Cell \u001b[0;32mIn[47], line 1\u001b[0m\n\u001b[0;32m----> 1\u001b[0m \u001b[43mtest_create_dim_customer\u001b[49m\u001b[43m(\u001b[49m\u001b[43mcleaned_customer_df\u001b[49m\u001b[43m,\u001b[49m\u001b[43m \u001b[49m\u001b[43mcleaned_nation_df\u001b[49m\u001b[43m,\u001b[49m\u001b[43m \u001b[49m\u001b[43mcleaned_region_df\u001b[49m\u001b[43m)\u001b[49m\n",
      "Cell \u001b[0;32mIn[46], line 32\u001b[0m, in \u001b[0;36mtest_create_dim_customer\u001b[0;34m(cleaned_customer_df, cleaned_nation_df, cleaned_region_df)\u001b[0m\n\u001b[1;32m     31\u001b[0m \u001b[38;5;28;01mdef\u001b[39;00m \u001b[38;5;21mtest_create_dim_customer\u001b[39m(cleaned_customer_df, cleaned_nation_df, cleaned_region_df):\n\u001b[0;32m---> 32\u001b[0m     result_df \u001b[38;5;241m=\u001b[39m \u001b[43mcreate_dim_customer\u001b[49m\u001b[43m(\u001b[49m\u001b[43mcleaned_customer_df\u001b[49m\u001b[43m,\u001b[49m\u001b[43m \u001b[49m\u001b[43mcleaned_nation_df\u001b[49m\u001b[43m,\u001b[49m\u001b[43m \u001b[49m\u001b[43mcleaned_region_df\u001b[49m\u001b[43m)\u001b[49m\n\u001b[1;32m     34\u001b[0m     expected_df \u001b[38;5;241m=\u001b[39m pl\u001b[38;5;241m.\u001b[39mDataFrame({\n\u001b[1;32m     35\u001b[0m         \u001b[38;5;124m'\u001b[39m\u001b[38;5;124mcustkey\u001b[39m\u001b[38;5;124m'\u001b[39m: [\u001b[38;5;241m1\u001b[39m, \u001b[38;5;241m2\u001b[39m, \u001b[38;5;241m3\u001b[39m],\n\u001b[1;32m     36\u001b[0m         \u001b[38;5;124m'\u001b[39m\u001b[38;5;124mname\u001b[39m\u001b[38;5;124m'\u001b[39m: [\u001b[38;5;124m'\u001b[39m\u001b[38;5;124mCustomer1\u001b[39m\u001b[38;5;124m'\u001b[39m, \u001b[38;5;124m'\u001b[39m\u001b[38;5;124mCustomer2\u001b[39m\u001b[38;5;124m'\u001b[39m],\n\u001b[0;32m   (...)\u001b[0m\n\u001b[1;32m     42\u001b[0m         \u001b[38;5;124m'\u001b[39m\u001b[38;5;124mregion_comment\u001b[39m\u001b[38;5;124m'\u001b[39m: [\u001b[38;5;124m'\u001b[39m\u001b[38;5;124mComment3\u001b[39m\u001b[38;5;124m'\u001b[39m, \u001b[38;5;124m'\u001b[39m\u001b[38;5;124mComment4\u001b[39m\u001b[38;5;124m'\u001b[39m]\n\u001b[1;32m     43\u001b[0m     })\n\u001b[1;32m     45\u001b[0m     \u001b[38;5;28;01massert\u001b[39;00m result_df\u001b[38;5;241m.\u001b[39mframe_equal(expected_df)\n",
      "Cell \u001b[0;32mIn[45], line 3\u001b[0m, in \u001b[0;36mcreate_dim_customer\u001b[0;34m(cleaned_customer_df, cleaned_nation_df, cleaned_region_df)\u001b[0m\n\u001b[1;32m      1\u001b[0m \u001b[38;5;28;01mdef\u001b[39;00m \u001b[38;5;21mcreate_dim_customer\u001b[39m(cleaned_customer_df, cleaned_nation_df, cleaned_region_df):\n\u001b[1;32m      2\u001b[0m     \u001b[38;5;28;01mreturn\u001b[39;00m \u001b[43mcleaned_customer_df\u001b[49m\u001b[43m\\\u001b[49m\n\u001b[0;32m----> 3\u001b[0m \u001b[43m        \u001b[49m\u001b[38;5;241;43m.\u001b[39;49m\u001b[43mjoin\u001b[49m(cleaned_nation_df, on\u001b[38;5;241m=\u001b[39m\u001b[38;5;124m\"\u001b[39m\u001b[38;5;124mnationkey\u001b[39m\u001b[38;5;124m\"\u001b[39m, how\u001b[38;5;241m=\u001b[39m\u001b[38;5;124m\"\u001b[39m\u001b[38;5;124mleft\u001b[39m\u001b[38;5;124m\"\u001b[39m, suffix\u001b[38;5;241m=\u001b[39m\u001b[38;5;124m\"\u001b[39m\u001b[38;5;124m_nation\u001b[39m\u001b[38;5;124m\"\u001b[39m)\\\n\u001b[1;32m      4\u001b[0m         \u001b[38;5;241m.\u001b[39mjoin(cleaned_region_df, on\u001b[38;5;241m=\u001b[39m\u001b[38;5;124m\"\u001b[39m\u001b[38;5;124mregionkey\u001b[39m\u001b[38;5;124m\"\u001b[39m, how\u001b[38;5;241m=\u001b[39m\u001b[38;5;124m\"\u001b[39m\u001b[38;5;124mleft\u001b[39m\u001b[38;5;124m\"\u001b[39m, suffix\u001b[38;5;241m=\u001b[39m\u001b[38;5;124m\"\u001b[39m\u001b[38;5;124m_region\u001b[39m\u001b[38;5;124m\"\u001b[39m)\\\n\u001b[1;32m      5\u001b[0m         \u001b[38;5;241m.\u001b[39mrename({\n\u001b[1;32m      6\u001b[0m             \u001b[38;5;124m\"\u001b[39m\u001b[38;5;124mname_nation\u001b[39m\u001b[38;5;124m\"\u001b[39m: \u001b[38;5;124m\"\u001b[39m\u001b[38;5;124mnation_name\u001b[39m\u001b[38;5;124m\"\u001b[39m,\n\u001b[1;32m      7\u001b[0m             \u001b[38;5;124m\"\u001b[39m\u001b[38;5;124mname_region\u001b[39m\u001b[38;5;124m\"\u001b[39m: \u001b[38;5;124m\"\u001b[39m\u001b[38;5;124mregion_name\u001b[39m\u001b[38;5;124m\"\u001b[39m,\n\u001b[1;32m      8\u001b[0m             \u001b[38;5;124m\"\u001b[39m\u001b[38;5;124mcomment_nation\u001b[39m\u001b[38;5;124m\"\u001b[39m: \u001b[38;5;124m\"\u001b[39m\u001b[38;5;124mnation_comment\u001b[39m\u001b[38;5;124m\"\u001b[39m,\n\u001b[1;32m      9\u001b[0m             \u001b[38;5;124m\"\u001b[39m\u001b[38;5;124mcomment_region\u001b[39m\u001b[38;5;124m\"\u001b[39m: \u001b[38;5;124m\"\u001b[39m\u001b[38;5;124mregion_comment\u001b[39m\u001b[38;5;124m\"\u001b[39m\n\u001b[1;32m     10\u001b[0m         })\n",
      "\u001b[0;31mAttributeError\u001b[0m: 'function' object has no attribute 'join'"
     ]
    }
   ],
   "source": [
    "test_create_dim_customer(cleaned_customer_df, cleaned_nation_df, cleaned_region_df)"
   ]
  },
  {
   "cell_type": "markdown",
   "id": "944af0b7-1485-4f14-9662-4dba6a2a4d42",
   "metadata": {},
   "source": [
    "# Code organization\n",
    "\n",
    "Deciding how to organize your code can be overwhelming. Typically companies use one of the following options to organize code:\n",
    "\n",
    "1. Based on multi hop architecture. E.g. **[see this dbt folder structure](https://github.com/dbt-labs/jaffle_shop_duckdb/tree/duckdb/models)**\n",
    "2. Based on existing company standards.\n",
    "\n",
    "For our use case(and most real life projects) we can use the following folder structure.\n",
    "\n",
    "![Folder structure](./assets/images/folder.png)"
   ]
  },
  {
   "cell_type": "markdown",
   "id": "fd72f8dc-a3a7-4846-ab75-394b1cc98936",
   "metadata": {},
   "source": [
    "## Code modularity\n",
    "\n",
    "We have code in this notebook to create our `customer_outreach_metrics` table. We will use the functional principles explained **[in this post](https://www.startdataengineering.com/post/code-patterns/#1-functional-design)** to turn them into modular functions."
   ]
  },
  {
   "cell_type": "code",
   "execution_count": 45,
   "id": "e95e964c-22d6-4803-9c89-56831d806ee7",
   "metadata": {},
   "outputs": [],
   "source": [
    "# this will be in python script named dim_customer.py, so calling this function would be indicative of the dataset it will produce\n",
    "# dim_customer.create_dataset\n",
    "def create_dataset(cleaned_customer_df, cleaned_nation_df, cleaned_region_df):\n",
    "    return cleaned_customer_df\\\n",
    "        .join(cleaned_nation_df, on=\"nationkey\", how=\"left\", suffix=\"_nation\")\\\n",
    "        .join(cleaned_region_df, on=\"regionkey\", how=\"left\", suffix=\"_region\")\\\n",
    "        .rename({\n",
    "            \"name_nation\": \"nation_name\",\n",
    "            \"name_region\": \"region_name\",\n",
    "            \"comment_nation\": \"nation_comment\",\n",
    "            \"comment_region\": \"region_comment\"\n",
    "        })"
   ]
  },
  {
   "cell_type": "markdown",
   "id": "1cdd1526-e492-4b7c-a0b5-b1d5b00ece68",
   "metadata": {},
   "source": [
    "Let's go ahead an go over the code available."
   ]
  },
  {
   "cell_type": "code",
   "execution_count": null,
   "id": "e6a6b8c6-c7dd-4548-9621-0cc1f231276b",
   "metadata": {},
   "outputs": [],
   "source": []
  },
  {
   "cell_type": "code",
   "execution_count": 46,
   "id": "4cacc218-0438-4b10-bd3f-4c80ffde1d89",
   "metadata": {},
   "outputs": [],
   "source": [
    "import pytest\n",
    "import polars as pl\n",
    "\n",
    "# Sample data for testing\n",
    "@pytest.fixture\n",
    "def cleaned_customer_df():\n",
    "    return pl.DataFrame({\n",
    "        'custkey': [1, 2],\n",
    "        'name': ['Customer1', 'Customer2'],\n",
    "        'nationkey': [101, 102],\n",
    "        'regionkey': [201, 202]\n",
    "    })\n",
    "\n",
    "@pytest.fixture\n",
    "def cleaned_nation_df():\n",
    "    return pl.DataFrame({\n",
    "        'nationkey': [101, 102],\n",
    "        'name_nation': ['Nation1', 'Nation2'],\n",
    "        'comment_nation': ['Comment1', 'Comment2']\n",
    "    })\n",
    "\n",
    "@pytest.fixture\n",
    "def cleaned_region_df():\n",
    "    return pl.DataFrame({\n",
    "        'regionkey': [201, 202],\n",
    "        'name_region': ['Region1', 'Region2'],\n",
    "        'comment_region': ['Comment3', 'Comment4']\n",
    "    })\n",
    "\n",
    "# The function to test\n",
    "def test_create_dim_customer(cleaned_customer_df, cleaned_nation_df, cleaned_region_df):\n",
    "    result_df = create_dim_customer(cleaned_customer_df, cleaned_nation_df, cleaned_region_df)\n",
    "\n",
    "    expected_df = pl.DataFrame({\n",
    "        'custkey': [1, 2, 3],\n",
    "        'name': ['Customer1', 'Customer2'],\n",
    "        'nationkey': [101, 102],\n",
    "        'regionkey': [201, 202],\n",
    "        'nation_name': ['Nation1', 'Nation2'],\n",
    "        'region_name': ['Region1', 'Region2'],\n",
    "        'nation_comment': ['Comment1', 'Comment2'],\n",
    "        'region_comment': ['Comment3', 'Comment4']\n",
    "    })\n",
    "\n",
    "    assert result_df.frame_equal(expected_df)\n"
   ]
  }
 ],
 "metadata": {
  "kernelspec": {
   "display_name": "Python 3 (ipykernel)",
   "language": "python",
   "name": "python3"
  },
  "language_info": {
   "codemirror_mode": {
    "name": "ipython",
    "version": 3
   },
   "file_extension": ".py",
   "mimetype": "text/x-python",
   "name": "python",
   "nbconvert_exporter": "python",
   "pygments_lexer": "ipython3",
   "version": "3.12.4"
  }
 },
 "nbformat": 4,
 "nbformat_minor": 5
}
